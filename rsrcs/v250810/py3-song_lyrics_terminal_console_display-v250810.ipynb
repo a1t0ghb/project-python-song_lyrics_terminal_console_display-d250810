{
 "cells": [
  {
   "cell_type": "markdown",
   "id": "2beaafc0",
   "metadata": {},
   "source": [
    "# Original TikTok version d250810.\n"
   ]
  },
  {
   "cell_type": "markdown",
   "id": "512104cc",
   "metadata": {},
   "source": [
    "- Ref. '<https://www.tiktok.com/@pyatsplusom/video/7535003211887889695>'."
   ]
  },
  {
   "cell_type": "code",
   "execution_count": 1,
   "id": "6e314390",
   "metadata": {},
   "outputs": [],
   "source": [
    "# ----- ----- ----- ----- ----- ----- ----- ----- ----- -----\n",
    "# [1ST TIME CODE EXECUTION] MANUAL VERIFICATIONS.\n"
   ]
  },
  {
   "cell_type": "code",
   "execution_count": 2,
   "id": "ba7f0b96",
   "metadata": {},
   "outputs": [
    {
     "name": "stdout",
     "output_type": "stream",
     "text": [
      "Python 3.12.11\n",
      "pip 25.0.1 from /usr/local/lib/python3.12/site-packages/pip (python 3.12)\n"
     ]
    }
   ],
   "source": [
    "#  'python' and 'pip' versions.\n",
    "\n",
    "!python --version\n",
    "!pip --version"
   ]
  },
  {
   "cell_type": "code",
   "execution_count": 3,
   "id": "ae3492fa",
   "metadata": {},
   "outputs": [],
   "source": [
    "#  List of installed packages.\n",
    "\n",
    "# !pip list\n"
   ]
  },
  {
   "cell_type": "code",
   "execution_count": 4,
   "id": "c218d0d9",
   "metadata": {},
   "outputs": [
    {
     "name": "stdout",
     "output_type": "stream",
     "text": [
      "\u001b[33mWARNING: Package(s) not found: sys\u001b[0m\u001b[33m\n",
      "\u001b[0m\u001b[33mWARNING: Package(s) not found: time\u001b[0m\u001b[33m\n",
      "\u001b[0mVersion: 14.1.0\n"
     ]
    }
   ],
   "source": [
    "#  Validate MANUALLY, ONE AT A TIME, if packages are installed.\n",
    "\n",
    "!pip show sys | grep Version #  Built-in module, no need to install; only import.\n",
    "!pip show time | grep Version #  Built-in module, no need to install; only import.\n",
    "!pip show rich | grep Version"
   ]
  },
  {
   "cell_type": "code",
   "execution_count": 5,
   "id": "1da6d28b",
   "metadata": {},
   "outputs": [],
   "source": [
    "#  [1ST TIME CODE EXECUTION] PACKAGES INSTALLATION: required for every NEW runtime.\n",
    "\n",
    "# #  To upgrade a package, add '-U' parameter before package name. e.g. '!pip install -U sys'.\n",
    "# # !pip install sys\n",
    "# # !pip install time\n",
    "# !pip install rich"
   ]
  },
  {
   "cell_type": "code",
   "execution_count": 6,
   "id": "29e2fd2d",
   "metadata": {},
   "outputs": [],
   "source": [
    "#  LIBRARIES / PACKAGES IMPORTS.\n",
    "\n",
    "import sys\n",
    "from rich import print\n",
    "from time import sleep\n"
   ]
  },
  {
   "cell_type": "code",
   "execution_count": 7,
   "id": "c2335840",
   "metadata": {},
   "outputs": [],
   "source": [
    "#  CODE EXECUTION\n",
    "\n",
    "#  Code reference: 'https://www.tiktok.com/@pyatsplusom/video/7535003211887889695'.\n",
    "#  Song: Lemon Demon - Fine\n",
    "# - URL: 'https://www.youtube.com/watch?v=xRiGeDMKpKU'.\n",
    "\n",
    "lines = [\n",
    "    (\". . .\", 0.2),\n",
    "    (\"Light is on the way\", 0.058),\n",
    "    (\"We'll be having a fun time\", 0.048),\n",
    "    (\"It's such a lovely day\", 0.048),\n",
    "    (\"We should pocket the sunshine\", 0.048),\n",
    "    (\"And never give it back\", 0.05),\n",
    "    (\"Even if there's a heat wave\", 0.04),\n",
    "    (\"Or terrorist attack\", 0.05),\n",
    "    (\"It will just be a close shave\", 0.05),\n",
    "    (\"I know\", 0.1),\n",
    "    (\"I know\", 0.15),\n",
    "    (\"That every bomb has a silver lining\", 0.07),\n",
    "    (\"I know\", 0.1),\n",
    "    (\"I know\", 0.1)\n",
    "]\n",
    "\n",
    "delays = [0.9, 0.3, 0.3, 0.3, 0.3, 0.3, 0.3, 0.3, 0.3, 0.5, 1.2, 0.1, 0.1, 0.1]\n"
   ]
  },
  {
   "cell_type": "code",
   "execution_count": 8,
   "id": "dfd190d1",
   "metadata": {},
   "outputs": [
    {
     "data": {
      "text/html": [
       "<pre style=\"white-space:pre;overflow-x:auto;line-height:normal;font-family:Menlo,'DejaVu Sans Mono',consolas,'Courier New',monospace\"><span style=\"color: #008080; text-decoration-color: #008080; font-weight: bold\">14</span>  | \n",
       "<span style=\"font-weight: bold\">[</span>\n",
       "    <span style=\"font-weight: bold\">(</span><span style=\"color: #008000; text-decoration-color: #008000\">'. . .'</span>, <span style=\"color: #008080; text-decoration-color: #008080; font-weight: bold\">0.2</span><span style=\"font-weight: bold\">)</span>,\n",
       "    <span style=\"font-weight: bold\">(</span><span style=\"color: #008000; text-decoration-color: #008000\">'Light is on the way'</span>, <span style=\"color: #008080; text-decoration-color: #008080; font-weight: bold\">0.058</span><span style=\"font-weight: bold\">)</span>,\n",
       "    <span style=\"font-weight: bold\">(</span><span style=\"color: #008000; text-decoration-color: #008000\">\"We'll be having a fun time\"</span>, <span style=\"color: #008080; text-decoration-color: #008080; font-weight: bold\">0.048</span><span style=\"font-weight: bold\">)</span>,\n",
       "    <span style=\"font-weight: bold\">(</span><span style=\"color: #008000; text-decoration-color: #008000\">\"It's such a lovely day\"</span>, <span style=\"color: #008080; text-decoration-color: #008080; font-weight: bold\">0.048</span><span style=\"font-weight: bold\">)</span>,\n",
       "    <span style=\"font-weight: bold\">(</span><span style=\"color: #008000; text-decoration-color: #008000\">'We should pocket the sunshine'</span>, <span style=\"color: #008080; text-decoration-color: #008080; font-weight: bold\">0.048</span><span style=\"font-weight: bold\">)</span>,\n",
       "    <span style=\"font-weight: bold\">(</span><span style=\"color: #008000; text-decoration-color: #008000\">'And never give it back'</span>, <span style=\"color: #008080; text-decoration-color: #008080; font-weight: bold\">0.05</span><span style=\"font-weight: bold\">)</span>,\n",
       "    <span style=\"font-weight: bold\">(</span><span style=\"color: #008000; text-decoration-color: #008000\">\"Even if there's a heat wave\"</span>, <span style=\"color: #008080; text-decoration-color: #008080; font-weight: bold\">0.04</span><span style=\"font-weight: bold\">)</span>,\n",
       "    <span style=\"font-weight: bold\">(</span><span style=\"color: #008000; text-decoration-color: #008000\">'Or terrorist attack'</span>, <span style=\"color: #008080; text-decoration-color: #008080; font-weight: bold\">0.05</span><span style=\"font-weight: bold\">)</span>,\n",
       "    <span style=\"font-weight: bold\">(</span><span style=\"color: #008000; text-decoration-color: #008000\">'It will just be a close shave'</span>, <span style=\"color: #008080; text-decoration-color: #008080; font-weight: bold\">0.05</span><span style=\"font-weight: bold\">)</span>,\n",
       "    <span style=\"font-weight: bold\">(</span><span style=\"color: #008000; text-decoration-color: #008000\">'I know'</span>, <span style=\"color: #008080; text-decoration-color: #008080; font-weight: bold\">0.1</span><span style=\"font-weight: bold\">)</span>,\n",
       "    <span style=\"font-weight: bold\">(</span><span style=\"color: #008000; text-decoration-color: #008000\">'I know'</span>, <span style=\"color: #008080; text-decoration-color: #008080; font-weight: bold\">0.15</span><span style=\"font-weight: bold\">)</span>,\n",
       "    <span style=\"font-weight: bold\">(</span><span style=\"color: #008000; text-decoration-color: #008000\">'That every bomb has a silver lining'</span>, <span style=\"color: #008080; text-decoration-color: #008080; font-weight: bold\">0.07</span><span style=\"font-weight: bold\">)</span>,\n",
       "    <span style=\"font-weight: bold\">(</span><span style=\"color: #008000; text-decoration-color: #008000\">'I know'</span>, <span style=\"color: #008080; text-decoration-color: #008080; font-weight: bold\">0.1</span><span style=\"font-weight: bold\">)</span>,\n",
       "    <span style=\"font-weight: bold\">(</span><span style=\"color: #008000; text-decoration-color: #008000\">'I know'</span>, <span style=\"color: #008080; text-decoration-color: #008080; font-weight: bold\">0.1</span><span style=\"font-weight: bold\">)</span>\n",
       "<span style=\"font-weight: bold\">]</span>\n",
       "</pre>\n"
      ],
      "text/plain": [
       "\u001b[1;36m14\u001b[0m  | \n",
       "\u001b[1m[\u001b[0m\n",
       "    \u001b[1m(\u001b[0m\u001b[32m'. . .'\u001b[0m, \u001b[1;36m0.2\u001b[0m\u001b[1m)\u001b[0m,\n",
       "    \u001b[1m(\u001b[0m\u001b[32m'Light is on the way'\u001b[0m, \u001b[1;36m0.058\u001b[0m\u001b[1m)\u001b[0m,\n",
       "    \u001b[1m(\u001b[0m\u001b[32m\"We'll be having a fun time\"\u001b[0m, \u001b[1;36m0.048\u001b[0m\u001b[1m)\u001b[0m,\n",
       "    \u001b[1m(\u001b[0m\u001b[32m\"It's such a lovely day\"\u001b[0m, \u001b[1;36m0.048\u001b[0m\u001b[1m)\u001b[0m,\n",
       "    \u001b[1m(\u001b[0m\u001b[32m'We should pocket the sunshine'\u001b[0m, \u001b[1;36m0.048\u001b[0m\u001b[1m)\u001b[0m,\n",
       "    \u001b[1m(\u001b[0m\u001b[32m'And never give it back'\u001b[0m, \u001b[1;36m0.05\u001b[0m\u001b[1m)\u001b[0m,\n",
       "    \u001b[1m(\u001b[0m\u001b[32m\"Even if there's a heat wave\"\u001b[0m, \u001b[1;36m0.04\u001b[0m\u001b[1m)\u001b[0m,\n",
       "    \u001b[1m(\u001b[0m\u001b[32m'Or terrorist attack'\u001b[0m, \u001b[1;36m0.05\u001b[0m\u001b[1m)\u001b[0m,\n",
       "    \u001b[1m(\u001b[0m\u001b[32m'It will just be a close shave'\u001b[0m, \u001b[1;36m0.05\u001b[0m\u001b[1m)\u001b[0m,\n",
       "    \u001b[1m(\u001b[0m\u001b[32m'I know'\u001b[0m, \u001b[1;36m0.1\u001b[0m\u001b[1m)\u001b[0m,\n",
       "    \u001b[1m(\u001b[0m\u001b[32m'I know'\u001b[0m, \u001b[1;36m0.15\u001b[0m\u001b[1m)\u001b[0m,\n",
       "    \u001b[1m(\u001b[0m\u001b[32m'That every bomb has a silver lining'\u001b[0m, \u001b[1;36m0.07\u001b[0m\u001b[1m)\u001b[0m,\n",
       "    \u001b[1m(\u001b[0m\u001b[32m'I know'\u001b[0m, \u001b[1;36m0.1\u001b[0m\u001b[1m)\u001b[0m,\n",
       "    \u001b[1m(\u001b[0m\u001b[32m'I know'\u001b[0m, \u001b[1;36m0.1\u001b[0m\u001b[1m)\u001b[0m\n",
       "\u001b[1m]\u001b[0m\n"
      ]
     },
     "metadata": {},
     "output_type": "display_data"
    },
    {
     "data": {
      "text/html": [
       "<pre style=\"white-space:pre;overflow-x:auto;line-height:normal;font-family:Menlo,'DejaVu Sans Mono',consolas,'Courier New',monospace\"><span style=\"color: #008080; text-decoration-color: #008080; font-weight: bold\">14</span>  | \n",
       "<span style=\"font-weight: bold\">[</span><span style=\"color: #008080; text-decoration-color: #008080; font-weight: bold\">0.9</span>, <span style=\"color: #008080; text-decoration-color: #008080; font-weight: bold\">0.3</span>, <span style=\"color: #008080; text-decoration-color: #008080; font-weight: bold\">0.3</span>, <span style=\"color: #008080; text-decoration-color: #008080; font-weight: bold\">0.3</span>, <span style=\"color: #008080; text-decoration-color: #008080; font-weight: bold\">0.3</span>, <span style=\"color: #008080; text-decoration-color: #008080; font-weight: bold\">0.3</span>, <span style=\"color: #008080; text-decoration-color: #008080; font-weight: bold\">0.3</span>, <span style=\"color: #008080; text-decoration-color: #008080; font-weight: bold\">0.3</span>, <span style=\"color: #008080; text-decoration-color: #008080; font-weight: bold\">0.3</span>, <span style=\"color: #008080; text-decoration-color: #008080; font-weight: bold\">0.5</span>, <span style=\"color: #008080; text-decoration-color: #008080; font-weight: bold\">1.2</span>, <span style=\"color: #008080; text-decoration-color: #008080; font-weight: bold\">0.1</span>, <span style=\"color: #008080; text-decoration-color: #008080; font-weight: bold\">0.1</span>, <span style=\"color: #008080; text-decoration-color: #008080; font-weight: bold\">0.1</span><span style=\"font-weight: bold\">]</span>\n",
       "</pre>\n"
      ],
      "text/plain": [
       "\u001b[1;36m14\u001b[0m  | \n",
       "\u001b[1m[\u001b[0m\u001b[1;36m0.9\u001b[0m, \u001b[1;36m0.3\u001b[0m, \u001b[1;36m0.3\u001b[0m, \u001b[1;36m0.3\u001b[0m, \u001b[1;36m0.3\u001b[0m, \u001b[1;36m0.3\u001b[0m, \u001b[1;36m0.3\u001b[0m, \u001b[1;36m0.3\u001b[0m, \u001b[1;36m0.3\u001b[0m, \u001b[1;36m0.5\u001b[0m, \u001b[1;36m1.2\u001b[0m, \u001b[1;36m0.1\u001b[0m, \u001b[1;36m0.1\u001b[0m, \u001b[1;36m0.1\u001b[0m\u001b[1m]\u001b[0m\n"
      ]
     },
     "metadata": {},
     "output_type": "display_data"
    }
   ],
   "source": [
    "print(len(lines), \" | \", lines)\n",
    "print(len(delays), \" | \", delays)\n"
   ]
  },
  {
   "cell_type": "code",
   "execution_count": 9,
   "id": "9c308607",
   "metadata": {},
   "outputs": [],
   "source": [
    "\n",
    "def printLyrics():\n",
    "    for i, (line, char_delay) in enumerate(lines):\n",
    "        for char in line:\n",
    "            print(f\"[grey78]{char}[/grey78]\", end = '')\n",
    "            sys.stdout.flush()\n",
    "            sleep(char_delay)\n",
    "        print()\n",
    "        sleep(delays[i])\n"
   ]
  },
  {
   "cell_type": "code",
   "execution_count": null,
   "id": "234ce88f",
   "metadata": {},
   "outputs": [],
   "source": [
    "printLyrics()\n"
   ]
  }
 ],
 "metadata": {
  "kernelspec": {
   "display_name": "Python 3",
   "language": "python",
   "name": "python3"
  },
  "language_info": {
   "codemirror_mode": {
    "name": "ipython",
    "version": 3
   },
   "file_extension": ".py",
   "mimetype": "text/x-python",
   "name": "python",
   "nbconvert_exporter": "python",
   "pygments_lexer": "ipython3",
   "version": "3.12.11"
  }
 },
 "nbformat": 4,
 "nbformat_minor": 5
}
